{
 "cells": [
  {
   "cell_type": "markdown",
   "id": "ec24addd",
   "metadata": {},
   "source": [
    "Socioeconomic Determinants of Hospital Readmissions and Mortality"
   ]
  },
  {
   "cell_type": "markdown",
   "id": "1df3180a",
   "metadata": {},
   "source": [
    "Test"
   ]
  },
  {
   "cell_type": "markdown",
   "id": "f2843d3b",
   "metadata": {},
   "source": []
  }
 ],
 "metadata": {
  "language_info": {
   "name": "python"
  }
 },
 "nbformat": 4,
 "nbformat_minor": 5
}

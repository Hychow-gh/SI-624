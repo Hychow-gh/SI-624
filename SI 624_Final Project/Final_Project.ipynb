{
 "cells": [
  {
   "cell_type": "markdown",
   "id": "ec24addd",
   "metadata": {},
   "source": [
    "Socioeconomic Determinants of Hospital Readmissions and Mortality"
   ]
  }
 ],
 "metadata": {
  "language_info": {
   "name": "python"
  }
 },
 "nbformat": 4,
 "nbformat_minor": 5
}
